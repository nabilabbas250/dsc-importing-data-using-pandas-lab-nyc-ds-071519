{
 "cells": [
  {
   "cell_type": "markdown",
   "metadata": {},
   "source": [
    "# Importing Data Using Pandas - Lab\n",
    "\n",
    "## Introduction\n",
    "\n",
    "In this lab, you'll get some practice with loading files with summary or metadata, and if you find that easy, the optional \"level up\" content covers loading data from a corrupted csv file!\n",
    "\n",
    "## Objectives\n",
    "You will be able to:\n",
    "* Import data from csv files and Excel files\n",
    "* Understand and explain key arguments for imports\n",
    "* Save information to csv and Excel files\n",
    "* Access data within a Pandas DataFrame (print() and .head())\n",
    "\n",
    "##  Loading Files with Summary or Meta Data\n",
    "\n",
    "Load either of the files Zipcode_Demos.csv or Zipcode_Demos.xlsx. What's going on with this dataset? Clean it up into a useable format and describe the nuances of how the data is currently formatted.\n",
    "\n",
    "All data files are stored in a folder titled 'Data'."
   ]
  },
  {
   "cell_type": "code",
   "execution_count": 4,
   "metadata": {},
   "outputs": [],
   "source": [
    "import pandas as pd\n",
    "import numpy as np"
   ]
  },
  {
   "cell_type": "code",
   "execution_count": 12,
   "metadata": {},
   "outputs": [
    {
     "data": {
      "text/plain": [
       "0                        48\n",
       "Average Statistics    10001\n",
       "Unnamed: 2               44\n",
       "Unnamed: 3               22\n",
       "Unnamed: 4              0.5\n",
       "Unnamed: 5               22\n",
       "Unnamed: 6              0.5\n",
       "Unnamed: 7                0\n",
       "Unnamed: 8                0\n",
       "Unnamed: 9               44\n",
       "Unnamed: 10             100\n",
       "Unnamed: 11               0\n",
       "Unnamed: 12               0\n",
       "Unnamed: 13              16\n",
       "Unnamed: 14            0.36\n",
       "Unnamed: 15               0\n",
       "Unnamed: 16               0\n",
       "Unnamed: 17               3\n",
       "Unnamed: 18            0.07\n",
       "Unnamed: 19               1\n",
       "Unnamed: 20            0.02\n",
       "Unnamed: 21              21\n",
       "Unnamed: 22            0.48\n",
       "Unnamed: 23               3\n",
       "Unnamed: 24            0.07\n",
       "Unnamed: 25               0\n",
       "Unnamed: 26               0\n",
       "Unnamed: 27              44\n",
       "Unnamed: 28             100\n",
       "Unnamed: 29               2\n",
       "Unnamed: 30            0.05\n",
       "Unnamed: 31              42\n",
       "Unnamed: 32            0.95\n",
       "Unnamed: 33               0\n",
       "Unnamed: 34               0\n",
       "Unnamed: 35               0\n",
       "Unnamed: 36               0\n",
       "Unnamed: 37              44\n",
       "Unnamed: 38             100\n",
       "Unnamed: 39              20\n",
       "Unnamed: 40            0.45\n",
       "Unnamed: 41              24\n",
       "Unnamed: 42            0.55\n",
       "Unnamed: 43               0\n",
       "Unnamed: 44               0\n",
       "Unnamed: 45              44\n",
       "Unnamed: 46             100\n",
       "Name: 47, dtype: object"
      ]
     },
     "execution_count": 12,
     "metadata": {},
     "output_type": "execute_result"
    }
   ],
   "source": [
    "df = pd.read_csv('Data/Zipcode_Demos.csv')\n",
    "df.iloc[47]"
   ]
  },
  {
   "cell_type": "code",
   "execution_count": null,
   "metadata": {},
   "outputs": [],
   "source": []
  },
  {
   "cell_type": "markdown",
   "metadata": {},
   "source": [
    "## Level Up (Optional) - Loading Corrupt CSV files\n",
    "\n",
    "Occasionally, you encountered some really ill formatted data. One example of this can be data that has strings containing commas in a csv file. Under the standard protocol, when this occurs, one is supposed to use quotes to differentiate between the commas denoting fields and commas within those fields themselves. For example, we could have a table like this:  \n",
    "\n",
    "ReviewerID,Rating,N_reviews,Review,VenueID\n",
    "123456,4,137,This restaurant was pretty good, we had a great time.,98765\n",
    "\n",
    "Which should be saved like this if it were a csv (to avoid confusion with the commas in the Review text):\n",
    "\"ReviewerID\",\"Rating\",\"N_reviews\",\"Review\",\"VenueID\"\n",
    "\"123456\",\"4\",\"137\",\"This restaurant was pretty good, we had a great time.\",\"98765\"\n",
    "\n",
    "Attempt to import the corrupt file, or at least a small preview of it. It is appropriately titled Yelp_Reviews_corrupt.csv. Investigate some of the intricacies of skipping rows to then pass over this error and comment on what you think is going on."
   ]
  },
  {
   "cell_type": "code",
   "execution_count": null,
   "metadata": {},
   "outputs": [],
   "source": [
    "#Hint: here's a useful programming pattern to use.\n",
    "try:\n",
    "    #do something\n",
    "except Exception as e:\n",
    "    #handle your exception e"
   ]
  },
  {
   "cell_type": "markdown",
   "metadata": {},
   "source": [
    "## Summary\n",
    "\n",
    "Congratulations, you now practiced your pandas-importing skills!"
   ]
  }
 ],
 "metadata": {
  "kernelspec": {
   "display_name": "Python 3",
   "language": "python",
   "name": "python3"
  },
  "language_info": {
   "codemirror_mode": {
    "name": "ipython",
    "version": 3
   },
   "file_extension": ".py",
   "mimetype": "text/x-python",
   "name": "python",
   "nbconvert_exporter": "python",
   "pygments_lexer": "ipython3",
   "version": "3.6.6"
  }
 },
 "nbformat": 4,
 "nbformat_minor": 2
}
